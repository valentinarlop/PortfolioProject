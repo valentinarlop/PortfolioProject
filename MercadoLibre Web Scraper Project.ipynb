{
 "cells": [
  {
   "cell_type": "code",
   "execution_count": 1,
   "id": "3585ebf6",
   "metadata": {},
   "outputs": [],
   "source": [
    "# import libraries \n",
    "\n",
    "from bs4 import BeautifulSoup\n",
    "import requests\n",
    "import time\n",
    "import datetime\n",
    "import openpyxl\n",
    "import smtplib\n",
    "import pandas as pd\n",
    "import datetime"
   ]
  },
  {
   "cell_type": "code",
   "execution_count": 2,
   "id": "ff2faf26",
   "metadata": {},
   "outputs": [
    {
     "name": "stdout",
     "output_type": "stream",
     "text": [
      "\n",
      "              Antiempañante Simoniz 120 Ml Para Carros O Automoviles\n",
      "             \n",
      "\n",
      "                28.350\n",
      "               \n"
     ]
    }
   ],
   "source": [
  
    "\n",
    "URL = 'https://articulo.mercadolibre.com.co/MCO-619003242-antiempanante-simoniz-120-ml-para-carros-o-automoviles-_JM#position=23&search_layout=stack&type=item&tracking_id=6e665974-a898-444a-a047-4730b44cb5ca'\n",
    "\n",
    "headers = { \"User-Agent\": \"Mozilla/5.0 (Windows NT 10.0; Win64; x64) AppleWebKit/537.36 (KHTML, like Gecko) Chrome/114.0.0.0 Safari/537.36\"}\n",
    "\n",
    "page = requests.get(URL, headers=headers)\n",
    "\n",
    "soup1 = BeautifulSoup(page.content, \"html.parser\")\n",
    "\n",
    "soup2 = BeautifulSoup(soup1.prettify(), \"html.parser\")\n",
    "\n",
    "title = soup2.find(class_='ui-pdp-title').get_text()\n",
    "\n",
    "price = soup2.find(class_='andes-money-amount__fraction').get_text()\n",
    "\n",
    "\n",
    "print(title)\n",
    "print(price)"
   ]
  },
  {
   "cell_type": "code",
   "execution_count": 3,
   "id": "414529a5",
   "metadata": {},
   "outputs": [
    {
     "name": "stdout",
     "output_type": "stream",
     "text": [
      "Antiempañante Simoniz 120 Ml Para Carros O Automoviles\n",
      "28350\n"
     ]
    }
   ],
   "source": [
    "# Clean up the data\n",
    "\n",
    "price = price.strip().replace('.','')\n",
    "title = title.strip()\n",
    "\n",
    "print(title)\n",
    "print(price)"
   ]
  },
  {
   "cell_type": "code",
   "execution_count": 4,
   "id": "ea734b91",
   "metadata": {},
   "outputs": [
    {
     "name": "stdout",
     "output_type": "stream",
     "text": [
      "2023-06-29\n"
     ]
    }
   ],
   "source": 
    "\n",
    "today = datetime.date.today()\n",
    "\n",
    "print(today)"
   ]
  },
  {
   "cell_type": "code",
   "execution_count": 5,
   "id": "01112c4a",
   "metadata": {},
   "outputs": [],
   "source": [
    "header = ['Titulo', 'Precio', 'Fecha']\n",
    "data = [title, price, today]\n",
    "\n",
    "workbook = openpyxl.Workbook()\n",
    "sheet = workbook.active\n",
    "sheet.append(header)\n",
    "sheet.append(data)\n",
    "workbook.save('MercadoLibreWebScraper.xlsx')"
   ]
  },
  {
   "cell_type": "code",
   "execution_count": 6,
   "id": "f23abfcf",
   "metadata": {},
   "outputs": [
    {
     "name": "stdout",
     "output_type": "stream",
     "text": [
      "                                              Titulo  Precio      Fecha\n",
      "0  Antiempañante Simoniz 120 Ml Para Carros O Aut...   28350 2023-06-29\n"
     ]
    }
   ],
   "source": [
    "df = pd.read_excel(r\"C:\\Users\\chcav\\MercadoLibreWebScraper.xlsx\")\n",
    "print(df)"
   ]
  },
  {
   "cell_type": "code",
   "execution_count": 7,
   "id": "89ae05a6",
   "metadata": {},
   "outputs": [],
   "source": [
    "workbook = openpyxl.load_workbook('MercadoLibreWebScraper.xlsx')\n",
    "\n",
    "sheet = workbook.active\n",
    "\n",
    "last_row = sheet.max_row\n",
    "\n",
    "sheet.cell(row=last_row+1, column=1).value = data[0]\n",
    "sheet.cell(row=last_row+1, column=2).value = data[1]\n",
    "sheet.cell(row=last_row+1, column=3).value = data[2]\n",
    "\n",
    "workbook.save('MercadoLibreWebScraper.xlsx')"
   ]
  },
  {
   "cell_type": "code",
   "execution_count": 8,
   "id": "8466d765",
   "metadata": {},
   "outputs": [],
   "source": [
    "#Combine all of the above into one function\n",
    "\n",
    "def check_price():\n",
    "\n",
    "    URL = 'https://articulo.mercadolibre.com.co/MCO-619003242-antiempanante-simoniz-120-ml-para-carros-o-automoviles-_JM#position=23&search_layout=stack&type=item&tracking_id=6e665974-a898-444a-a047-4730b44cb5ca'\n",
    "\n",
    "    headers = { \"User-Agent\": \"Mozilla/5.0 (Windows NT 10.0; Win64; x64) AppleWebKit/537.36 (KHTML, like Gecko) Chrome/114.0.0.0 Safari/537.36\"}\n",
    "    \n",
    "    page = requests.get(URL, headers=headers)\n",
    "\n",
    "    soup1 = BeautifulSoup(page.content, \"html.parser\")\n",
    "\n",
    "    soup2 = BeautifulSoup(soup1.prettify(), \"html.parser\")\n",
    "\n",
    "    title = soup2.find(class_='ui-pdp-title').get_text()\n",
    "\n",
    "    price = soup2.find(class_='andes-money-amount__fraction').get_text()\n",
    "\n",
    "    price = price.strip().replace('.','')\n",
    "    title = title.strip()\n",
    "\n",
    "    import datetime\n",
    "\n",
    "    today = datetime.date.today()\n",
    "    \n",
    "    import openpyxl \n",
    "\n",
    "    header = ['Titulo', 'Precio', 'Fecha']\n",
    "    data = [title, price, today]\n",
    "    \n",
    "    workbook = openpyxl.load_workbook('MercadoLibreWebScraper.xlsx')\n",
    "\n",
    "    sheet = workbook.active\n",
    "\n",
    "    last_row = sheet.max_row\n",
    "\n",
    "    sheet.cell(row=last_row+1, column=1).value = data[0]\n",
    "    sheet.cell(row=last_row+1, column=2).value = data[1]\n",
    "    sheet.cell(row=last_row+1, column=3).value = data[2]\n",
    "\n",
    "    workbook.save('MercadoLibreWebScraper.xlsx')\n",
    "    \n",
    "    if(int(price)<=25500):\n",
    "        send_mail()\n",
    "   "
   ]
  },
  {
   "cell_type": "code",
   "execution_count": null,
   "id": "799ce80a",
   "metadata": {},
   "outputs": [],
   "source": [
    "# Runs check_price after a set time and inputs data into excel\n",
    "\n",
    "while(True):\n",
    "    check_price()\n",
    "    time.sleep(86400)"
   ]
  },
  {
   "cell_type": "code",
   "execution_count": 9,
   "id": "a8f39c35",
   "metadata": {},
   "outputs": [],
   "source": [
    "#sending an email when a price hits below a certain level\n",
    "\n",
    "def send_mail():\n",
    "    server = smtplib.SMTP_SSL('smtp.gmail.com',465)\n",
    "    server.ehlo()\n",
    "    #server.starttls()\n",
    "    server.ehlo()\n",
    "    server.login('valentinarlop@gmail.com','christianrl9730@gmail.com')\n",
    "    \n",
    "    subject = \" Antiempañante Simoniz 120 Ml está por debajo de 25.500\"\n",
    "    body = \"Este es el momento de comprar una gran cantidad. Compra aquí: https://articulo.mercadolibre.com.co/MCO-619003242-antiempanante-simoniz-120-ml-para-carros-o-automoviles-_JM#position=23&search_layout=stack&type=item&tracking_id=6e665974-a898-444a-a047-4730b44cb5ca\"\n",
    "   \n",
    "    msg = f\"Subject: {subject}\\n\\n{body}\"\n",
    "    \n",
    "    server.sendmail(\n",
    "        'valentinarlop@gmail.com',\n",
    "        msg\n",
    "     \n",
    "    )"
   ]
  },
  {
   "cell_type": "code",
   "execution_count": null,
   "id": "ae0f8413",
   "metadata": {},
   "outputs": [],
   "source": []
  },
  {
   "cell_type": "code",
   "execution_count": null,
   "id": "aceeef43",
   "metadata": {},
   "outputs": [],
   "source": []
  },
  {
   "cell_type": "code",
   "execution_count": null,
   "id": "ea23f8af",
   "metadata": {},
   "outputs": [],
   "source": []
  },
  {
   "cell_type": "code",
   "execution_count": null,
   "id": "7b9d8537",
   "metadata": {},
   "outputs": [],
   "source": []
  },
  {
   "cell_type": "code",
   "execution_count": null,
   "id": "266b4cbb",
   "metadata": {},
   "outputs": [],
   "source": []
  },
  {
   "cell_type": "code",
   "execution_count": null,
   "id": "e48ebbe1",
   "metadata": {},
   "outputs": [],
   "source": []
  },
  {
   "cell_type": "code",
   "execution_count": null,
   "id": "b52b0e78",
   "metadata": {},
   "outputs": [],
   "source": []
  },
  {
   "cell_type": "code",
   "execution_count": null,
   "id": "910ebb32",
   "metadata": {},
   "outputs": [],
   "source": []
  }
 ],
 "metadata": {
  "kernelspec": {
   "display_name": "Python 3 (ipykernel)",
   "language": "python",
   "name": "python3"
  },
  "language_info": {
   "codemirror_mode": {
    "name": "ipython",
    "version": 3
   },
   "file_extension": ".py",
   "mimetype": "text/x-python",
   "name": "python",
   "nbconvert_exporter": "python",
   "pygments_lexer": "ipython3",
   "version": "3.10.9"
  }
 },
 "nbformat": 4,
 "nbformat_minor": 5
}
